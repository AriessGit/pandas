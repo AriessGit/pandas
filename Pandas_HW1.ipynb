{
 "cells": [
  {
   "cell_type": "code",
   "execution_count": 3,
   "id": "de714b49-be69-465a-907d-e25888adf22c",
   "metadata": {},
   "outputs": [],
   "source": [
    "import numpy as np\n",
    "from IPython.display import display\n",
    "import pandas as pd"
   ]
  },
  {
   "cell_type": "code",
   "execution_count": 4,
   "id": "9d945ff1-3feb-413e-a559-116c0bb875ea",
   "metadata": {},
   "outputs": [
    {
     "name": "stdout",
     "output_type": "stream",
     "text": [
      "      Name  Age  Salary Department\n",
      "0    Alice   25   50000         HR\n",
      "1      Bob   30   60000         IT\n",
      "2  Charlie   35   75000    Finance\n",
      "3    Diana   28   62000         IT\n",
      "4     Evan   40   80000         HR\n"
     ]
    }
   ],
   "source": [
    "data = {\n",
    "    \"Name\": [\"Alice\", \"Bob\", \"Charlie\", \"Diana\", \"Evan\"],\n",
    "    \"Age\": [25, 30, 35, 28, 40],\n",
    "    \"Salary\": [50000, 60000, 75000, 62000, 80000],\n",
    "    \"Department\": [\"HR\", \"IT\", \"Finance\", \"IT\", \"HR\"]\n",
    "}\n",
    "\n",
    "df = pd.DataFrame(data)\n",
    "print(df)\n"
   ]
  },
  {
   "cell_type": "code",
   "execution_count": 47,
   "id": "58ca8319-ae65-4bdb-912c-23ae3210ec0e",
   "metadata": {},
   "outputs": [
    {
     "name": "stdout",
     "output_type": "stream",
     "text": [
      "      Name  Age  Salary Department\n",
      "0    Alice   25   50000         HR\n",
      "1      Bob   30   60000         IT\n",
      "2  Charlie   35   75000    Finance\n",
      "3    Diana   28   62000         IT\n",
      "4     Evan   40   80000         HR\n",
      "\n",
      "      Name  Salary\n",
      "0    Alice   50000\n",
      "1      Bob   60000\n",
      "2  Charlie   75000\n"
     ]
    }
   ],
   "source": [
    "#Task 1:\n",
    "#Select rows and columns with .iloc\n",
    "print(df.iloc[:,:])\n",
    "print()\n",
    "#Get the first 3 rows and only the Name and Salary columns\n",
    "print(df.loc[:2,['Name', 'Salary']])"
   ]
  },
  {
   "cell_type": "code",
   "execution_count": 50,
   "id": "0967ab43-b04e-4bb2-8ae0-2dc693d588ef",
   "metadata": {},
   "outputs": [
    {
     "name": "stdout",
     "output_type": "stream",
     "text": [
      "      Name  Age  Salary Department   Bonus\n",
      "0    Alice   25   50000         HR  5000.0\n",
      "1      Bob   30   60000         IT  6000.0\n",
      "2  Charlie   35   75000    Finance  7500.0\n",
      "3    Diana   28   62000         IT  6200.0\n",
      "4     Evan   40   80000         HR  8000.0\n"
     ]
    }
   ],
   "source": [
    "#Task 2:\n",
    "#Add a new calculated column- \n",
    "#Create a column Bonus that is 10% of the Salary\n",
    "\n",
    "df['Bonus'] = 0.1 * df['Salary'] \n",
    "print(df)"
   ]
  },
  {
   "cell_type": "code",
   "execution_count": 13,
   "id": "6e01a225-d1b0-431c-b8e3-2ac638b6f77d",
   "metadata": {},
   "outputs": [
    {
     "name": "stdout",
     "output_type": "stream",
     "text": [
      "      Name  Age  Salary Department\n",
      "0    Alice   25   50000         HR\n",
      "1      Bob   30   60000         IT\n",
      "2  Charlie   35   75000    Finance\n",
      "3    Diana   28   62000         IT\n",
      "4     Evan   40   80000         HR\n",
      "         Age  Salary Department\n",
      "Name                           \n",
      "Alice     25   50000         HR\n",
      "Bob       30   60000         IT\n",
      "Charlie   35   75000    Finance\n",
      "Diana     28   62000         IT\n",
      "Evan      40   80000         HR\n",
      "         Salary Department\n",
      "Name                      \n",
      "Bob       60000         IT\n",
      "Charlie   75000    Finance\n",
      "Diana     62000         IT\n"
     ]
    },
    {
     "data": {
      "text/html": [
       "<div>\n",
       "<style scoped>\n",
       "    .dataframe tbody tr th:only-of-type {\n",
       "        vertical-align: middle;\n",
       "    }\n",
       "\n",
       "    .dataframe tbody tr th {\n",
       "        vertical-align: top;\n",
       "    }\n",
       "\n",
       "    .dataframe thead th {\n",
       "        text-align: right;\n",
       "    }\n",
       "</style>\n",
       "<table border=\"1\" class=\"dataframe\">\n",
       "  <thead>\n",
       "    <tr style=\"text-align: right;\">\n",
       "      <th></th>\n",
       "      <th>Name</th>\n",
       "      <th>Salary</th>\n",
       "      <th>Department</th>\n",
       "    </tr>\n",
       "  </thead>\n",
       "  <tbody>\n",
       "    <tr>\n",
       "      <th>0</th>\n",
       "      <td>Bob</td>\n",
       "      <td>60000</td>\n",
       "      <td>IT</td>\n",
       "    </tr>\n",
       "    <tr>\n",
       "      <th>1</th>\n",
       "      <td>Charlie</td>\n",
       "      <td>75000</td>\n",
       "      <td>Finance</td>\n",
       "    </tr>\n",
       "    <tr>\n",
       "      <th>2</th>\n",
       "      <td>Diana</td>\n",
       "      <td>62000</td>\n",
       "      <td>IT</td>\n",
       "    </tr>\n",
       "  </tbody>\n",
       "</table>\n",
       "</div>"
      ],
      "text/plain": [
       "      Name  Salary Department\n",
       "0      Bob   60000         IT\n",
       "1  Charlie   75000    Finance\n",
       "2    Diana   62000         IT"
      ]
     },
     "execution_count": 13,
     "metadata": {},
     "output_type": "execute_result"
    }
   ],
   "source": [
    "data = {\n",
    "    \"Name\": [\"Alice\", \"Bob\", \"Charlie\", \"Diana\", \"Evan\"],\n",
    "    \"Age\": [25, 30, 35, 28, 40],\n",
    "    \"Salary\": [50000, 60000, 75000, 62000, 80000],\n",
    "    \"Department\": [\"HR\", \"IT\", \"Finance\", \"IT\", \"HR\"]\n",
    "}\n",
    "\n",
    "df = pd.DataFrame(data)\n",
    "print(df)\n",
    "\n",
    "\n",
    "#Task 3:\n",
    "# Change the index:\n",
    "# Set the Name column as the new index\n",
    "\n",
    "df.set_index('Name', inplace = True)\n",
    "print(df)\n",
    "\n",
    "# Display all rows from Bob to Diana and only Salary and Department columns\n",
    "\n",
    "df = df.loc['Bob':'Diana', ['Salary', 'Department']]\n",
    "print(df)\n",
    "\n",
    "# Then reset it back to the default numeric index\n",
    "\n",
    "df.reset_index(inplace = True)\n",
    "df\n",
    "\n",
    "\n",
    "\n"
   ]
  },
  {
   "cell_type": "code",
   "execution_count": null,
   "id": "f71f9618-119e-47ce-a8e1-1dcaadfb2156",
   "metadata": {},
   "outputs": [],
   "source": []
  }
 ],
 "metadata": {
  "kernelspec": {
   "display_name": "Python 3 (ipykernel)",
   "language": "python",
   "name": "python3"
  },
  "language_info": {
   "codemirror_mode": {
    "name": "ipython",
    "version": 3
   },
   "file_extension": ".py",
   "mimetype": "text/x-python",
   "name": "python",
   "nbconvert_exporter": "python",
   "pygments_lexer": "ipython3",
   "version": "3.13.5"
  }
 },
 "nbformat": 4,
 "nbformat_minor": 5
}
